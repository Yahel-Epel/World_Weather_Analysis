{
 "cells": [
  {
   "cell_type": "code",
   "execution_count": 1,
   "id": "3d7f7339",
   "metadata": {},
   "outputs": [],
   "source": [
    "# Create a practice set of random latitude and longitude combinations.\n",
    "x = [25.12903645, 25.92017388, 26.62509167, -59.98969384, 37.30571269]\n",
    "y = [-67.59741259, 11.09532135, 74.84233102, -76.89176677, -61.13376282]\n",
    "coordinates = list(zip(x, y))"
   ]
  },
  {
   "cell_type": "code",
   "execution_count": 2,
   "id": "58ad5f7b",
   "metadata": {},
   "outputs": [
    {
     "data": {
      "text/plain": [
       "[(25.12903645, -67.59741259),\n",
       " (25.92017388, 11.09532135),\n",
       " (26.62509167, 74.84233102),\n",
       " (-59.98969384, -76.89176677),\n",
       " (37.30571269, -61.13376282)]"
      ]
     },
     "execution_count": 2,
     "metadata": {},
     "output_type": "execute_result"
    }
   ],
   "source": [
    "coordinates"
   ]
  },
  {
   "cell_type": "code",
   "execution_count": 3,
   "id": "9877fd24",
   "metadata": {},
   "outputs": [
    {
     "name": "stdout",
     "output_type": "stream",
     "text": [
      "25.12903645 -67.59741259\n",
      "25.92017388 11.09532135\n",
      "26.62509167 74.84233102\n",
      "-59.98969384 -76.89176677\n",
      "37.30571269 -61.13376282\n"
     ]
    }
   ],
   "source": [
    "# Use the tuple() function to display the latitude and longitude combinations.\n",
    "for coordinate in coordinates:\n",
    "    print(coordinate[0], coordinate[1])"
   ]
  },
  {
   "cell_type": "code",
   "execution_count": 4,
   "id": "1dc4c131",
   "metadata": {},
   "outputs": [],
   "source": [
    "# !pip install kdtree"
   ]
  },
  {
   "cell_type": "code",
   "execution_count": 5,
   "id": "6ae57aee",
   "metadata": {},
   "outputs": [],
   "source": [
    "# import csv\n",
    "# import kdtree\n",
    "# import os\n",
    "# from pathlib import Path\n",
    "\n",
    "\n",
    "# class City:\n",
    "#     '''\n",
    "#     City wraps up the info about a city, including its name, coordinates,\n",
    "#     and belonging country.\n",
    "#     '''\n",
    "#     def __init__(self, city_name, country_code):\n",
    "#         self.city_name = city_name\n",
    "#         self.country_code = country_code\n",
    "\n",
    "\n",
    "# # load the city data up\n",
    "# # _current_dir, _current_filename = os.path.split(__file__)\n",
    "# # _world_cities_csv_path = os.path.join(_current_dir, 'worldcities.csv')\n",
    "# _world_cities_csv_path = Path('worldcities.csv')\n",
    "\n",
    "# _world_cities_kdtree = kdtree.create(dimensions=2)\n",
    "# WORLD_CITIES_DICT = {}\n",
    "\n",
    "# with open(_world_cities_csv_path, 'r') as csv_file:\n",
    "#     cities = csv.reader(csv_file)\n",
    "\n",
    "#     # discard the headers\n",
    "#     cities.__next__()\n",
    "\n",
    "#     # populate geo points into kdtree\n",
    "#     for city in cities:\n",
    "#         city_coordinate_key = (float(city[2]), float(city[3]))\n",
    "#         _world_cities_kdtree.add(city_coordinate_key)\n",
    "#         c = City(city[1], city[0])\n",
    "#         WORLD_CITIES_DICT[city_coordinate_key] = c\n",
    "\n",
    "\n",
    "# def nearest_city(latitude, longitude):\n",
    "#     nearest_city_coordinate = _world_cities_kdtree.search_nn((latitude, longitude, ))\n",
    "#     return WORLD_CITIES_DICT[nearest_city_coordinate[0].data]"
   ]
  },
  {
   "cell_type": "code",
   "execution_count": 6,
   "id": "dedffd7a",
   "metadata": {},
   "outputs": [],
   "source": [
    "# Use the citipy module to determine city based on latitude and longitude.\n",
    "from citipy import citipy"
   ]
  },
  {
   "cell_type": "code",
   "execution_count": 7,
   "id": "4449da85",
   "metadata": {},
   "outputs": [
    {
     "name": "stdout",
     "output_type": "stream",
     "text": [
      "cockburn town tc\n",
      "gat ly\n",
      "parvatsar in\n",
      "punta arenas cl\n",
      "saint george bm\n"
     ]
    }
   ],
   "source": [
    "# Use the tuple() function to display the latitude and longitude combinations.\n",
    "for coordinate in coordinates:\n",
    "    print(citipy.nearest_city(coordinate[0], coordinate[1]).city_name,\n",
    "          citipy.nearest_city(coordinate[0], coordinate[1]).country_code)"
   ]
  },
  {
   "cell_type": "code",
   "execution_count": 8,
   "id": "f844e2bb",
   "metadata": {},
   "outputs": [
    {
     "data": {
      "text/plain": [
       "5"
      ]
     },
     "execution_count": 8,
     "metadata": {},
     "output_type": "execute_result"
    }
   ],
   "source": [
    "# Create a list for holding the cities.\n",
    "cities = []\n",
    "# Identify the nearest city for each latitude and longitude combination.\n",
    "for coordinate in coordinates:\n",
    "    city = citipy.nearest_city(coordinate[0], coordinate[1]).city_name\n",
    "\n",
    "    # If the city is unique, then we will add it to the cities list.\n",
    "    if city not in cities:\n",
    "        cities.append(city)\n",
    "# Print the city count to confirm sufficient count.\n",
    "len(cities)"
   ]
  },
  {
   "cell_type": "code",
   "execution_count": 9,
   "id": "00e4b4c1",
   "metadata": {},
   "outputs": [
    {
     "data": {
      "text/plain": [
       "['cockburn town', 'gat', 'parvatsar', 'punta arenas', 'saint george']"
      ]
     },
     "execution_count": 9,
     "metadata": {},
     "output_type": "execute_result"
    }
   ],
   "source": [
    "cities"
   ]
  },
  {
   "cell_type": "code",
   "execution_count": null,
   "id": "df962086",
   "metadata": {},
   "outputs": [],
   "source": []
  }
 ],
 "metadata": {
  "kernelspec": {
   "display_name": "PythonData",
   "language": "python",
   "name": "pythondata"
  },
  "language_info": {
   "codemirror_mode": {
    "name": "ipython",
    "version": 3
   },
   "file_extension": ".py",
   "mimetype": "text/x-python",
   "name": "python",
   "nbconvert_exporter": "python",
   "pygments_lexer": "ipython3",
   "version": "3.7.11"
  }
 },
 "nbformat": 4,
 "nbformat_minor": 5
}
